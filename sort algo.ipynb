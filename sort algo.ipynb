{
 "cells": [
  {
   "cell_type": "markdown",
   "metadata": {},
   "source": [
    "# InsertionSort O(n^2)\n",
    "## arr = [4,1,7,8,3,5,9]\n",
    "### Method: Examine each item (start from index 1) and compare it to items on its left (left is sorted), insert the item in the correct position on the left.\n",
    "### Note: insert by comparing with previous element and swap."
   ]
  },
  {
   "cell_type": "code",
   "execution_count": 36,
   "metadata": {},
   "outputs": [
    {
     "name": "stdout",
     "output_type": "stream",
     "text": [
      "1 [4, 1, 7, 8, 3, 5, 9]\n",
      "2 [1, 4, 7, 8, 3, 5, 9]\n",
      "3 [1, 4, 7, 8, 3, 5, 9]\n",
      "4 [1, 4, 7, 8, 3, 5, 9]\n",
      "5 [1, 3, 4, 7, 8, 5, 9]\n",
      "6 [1, 3, 4, 5, 7, 8, 9]\n"
     ]
    },
    {
     "data": {
      "text/plain": [
       "[1, 3, 4, 5, 7, 8, 9]"
      ]
     },
     "execution_count": 36,
     "metadata": {},
     "output_type": "execute_result"
    }
   ],
   "source": [
    "arr = [4,1,7,8,3,5,9]\n",
    "def insertsort(arr):\n",
    "    n = len(arr)\n",
    "    for i in range(1,n):\n",
    "        print(i, arr)\n",
    "        j = i - 1 # j is the end of left sorted part\n",
    "        while(j>=0 and arr[j] > arr[j+1]):\n",
    "            arr[j+1], arr[j] = arr[j], arr[j+1]\n",
    "            j-=1 #  continue comparing with previous one\n",
    "    return arr\n",
    "insertsort(arr)\n",
    "\n",
    "# left side is sorted\n",
    "# 1 [4, 1, 7, 8, 3, 5, 9] exam 1, it should swap with 4\n",
    "# 2 [1, 4, 7, 8, 3, 5, 9] exam 7, it is correct position\n",
    "# 3 [1, 4, 7, 8, 3, 5, 9] exam 8, it is correct position\n",
    "# 4 [1, 4, 7, 8, 3, 5, 9] exam 3, it should swap with 8 and 7 and 4\n",
    "# 5 [1, 3, 4, 7, 8, 5, 9] exam 5, it should swap with 8 and 7\n",
    "# 6 [1, 3, 4, 5, 7, 8, 9] exam 9, it is correct position"
   ]
  },
  {
   "cell_type": "markdown",
   "metadata": {},
   "source": [
    "# MergeSort O(nlogn) (Divide & conquer)\n",
    "## arr = [2,8,5,3,9,4,1,7] \n",
    "### Divide & conquer, excute recursively, first devide then merge"
   ]
  },
  {
   "cell_type": "code",
   "execution_count": 40,
   "metadata": {},
   "outputs": [
    {
     "name": "stdout",
     "output_type": "stream",
     "text": [
      "[2] [8]\n",
      "[5] [3]\n",
      "[2, 8] [3, 5]\n",
      "[9] [4]\n",
      "[1] [7]\n",
      "[4, 9] [1, 7]\n",
      "[2, 3, 5, 8] [1, 4, 7, 9]\n",
      "[1, 2, 3, 4, 5, 7, 8, 9]\n"
     ]
    }
   ],
   "source": [
    "def mergesort(arr):\n",
    "    if(len(arr) <= 1): # already divide in to one element\n",
    "        return arr # return itself\n",
    "    mid = int(len(arr)/2) # otherwise devide from middle\n",
    "    left = mergesort(arr[:mid]) # continue deviding left\n",
    "    right = mergesort(arr[mid:]) # continue deviding right\n",
    "    return merge(left, right) # when completely divide, finally merge them\n",
    "\n",
    "def merge(arr1, arr2):\n",
    "    i = 0\n",
    "    j = 0\n",
    "    arr = []\n",
    "    print(arr1, arr2)\n",
    "    while(i<len(arr1) and j<len(arr2)):\n",
    "        if(arr1[i] < arr2[j]):\n",
    "            arr.append(arr1[i])\n",
    "            i+=1\n",
    "        else:\n",
    "            arr.append(arr2[j])\n",
    "            j+=1\n",
    "    arr += arr1[i:] # when arr2 is finished, attach remain of arr1 if exists\n",
    "    arr += arr2[j:] # when arr1 is finished, attach remain of arr2 if exists\n",
    "    return arr\n",
    "\n",
    "arr = [2,8,5,3,9,4,1,7]     \n",
    "print(mergesort(arr))\n",
    "\n",
    "# merge\n",
    "# [2] [8]\n",
    "# [5] [3]\n",
    "# [2, 8] [3, 5] # merge these two array: exam them from index 0, find smaller 2, append\n",
    "# it, only increment i, compare 8>3, them increment j, compare 8>5, then increment j, \n",
    "# now arr2 is finished, attach remain of arr1, which is 8\n",
    "# [9] [4]\n",
    "# [1] [7]\n",
    "# [4, 9] [1, 7]\n",
    "# [2, 3, 5, 8] [1, 4, 7, 9]\n",
    "# [1, 2, 3, 4, 5, 7, 8, 9]"
   ]
  },
  {
   "cell_type": "markdown",
   "metadata": {},
   "source": [
    "# QuickSort Worst: O(n^2) Average: O(nlogn)\n",
    "## arr = [4,1,7,8,3,5,9] \n",
    "### Method: Pivot element: items on the left are smaller, items on the right are larger. Set first element to pivot, then use partition function to put pivot to correct position."
   ]
  },
  {
   "cell_type": "code",
   "execution_count": 52,
   "metadata": {},
   "outputs": [
    {
     "name": "stdout",
     "output_type": "stream",
     "text": [
      "[1, 3, 4, 8, 7, 5, 9]\n",
      "[1, 3, 4, 5, 7, 8, 9]\n",
      "[1, 3, 4, 5, 7, 8, 9]\n",
      "[1, 3, 4, 5, 7, 8, 9]\n"
     ]
    },
    {
     "data": {
      "text/plain": [
       "[1, 3, 4, 5, 7, 8, 9]"
      ]
     },
     "execution_count": 52,
     "metadata": {},
     "output_type": "execute_result"
    }
   ],
   "source": [
    "arr = [4,1,7,8,3,5,9]    \n",
    "\n",
    "def quicksort(arr):\n",
    "    quicksort2(arr, 0, len(arr)-1)\n",
    "    return arr\n",
    "\n",
    "def quicksort2(arr, left, right):\n",
    "    if(left < right): # if more than two element\n",
    "        pivotIndex = partition(arr, left, right)\n",
    "        quicksort2(arr, left, pivotIndex - 1)\n",
    "        quicksort2(arr, pivotIndex + 1, right)\n",
    "        print(arr)\n",
    "    \n",
    "def partition(arr, left, right): # the process to find position of pivot element\n",
    "    border = left # border is last element of left partition\n",
    "    pivot = arr[border] # choose first element to pivot \n",
    "    for i in range(left+1,right+1):\n",
    "        if(arr[i] > pivot):\n",
    "            continue\n",
    "        else:\n",
    "            border+=1\n",
    "            arr[border], arr[i] = arr[i], arr[border]\n",
    "    arr[border], arr[left] = arr[left], arr[border]\n",
    "    return border\n",
    "\n",
    "quicksort(arr)\n",
    "\n",
    "# [3, 1, 4, 8, 7, 5, 9] # after first partition, pivot is 4\n",
    "# [1, 3, 4, 8, 7, 5, 9] # after partition left side, pivot is 3\n",
    "# [1, 3, 4, 5, 7, 8, 9] # after partition right side, pivot is 8\n",
    "# [1, 3, 4, 5, 7, 8, 9] # left side is done, partition [5, 7]\n",
    "# [1, 3, 4, 5, 7, 8, 9] # done"
   ]
  },
  {
   "cell_type": "code",
   "execution_count": 51,
   "metadata": {},
   "outputs": [
    {
     "name": "stdout",
     "output_type": "stream",
     "text": [
      "1 [4, 1, 7, 8, 3, 5, 9]\n",
      "2 [4, 1, 7, 8, 3, 5, 9]\n",
      "3 [4, 1, 7, 8, 3, 5, 9]\n",
      "4 [4, 1, 7, 8, 3, 5, 9]\n",
      "5 [4, 1, 3, 8, 7, 5, 9]\n",
      "6 [4, 1, 3, 8, 7, 5, 9]\n",
      "[3, 1, 4, 8, 7, 5, 9]\n"
     ]
    }
   ],
   "source": [
    "# see how does partition work?\n",
    "arr = [4,1,7,8,3,5,9]    \n",
    "def partition(arr, left, right):\n",
    "    border = left # border is last element of left partition\n",
    "    pivot = arr[border] # choose first element 4 to pivot \n",
    "    for i in range(left+1,right+1):\n",
    "        print(i, arr)\n",
    "        if(arr[i] > pivot):\n",
    "            continue\n",
    "        else:\n",
    "            border+=1\n",
    "            arr[border], arr[i] = arr[i], arr[border]\n",
    "    arr[border], arr[left] = arr[left], arr[border] # put pivot to border position\n",
    "    return border # index of pivot\n",
    "\n",
    "partition(arr, 0, 6)\n",
    "print(arr)\n",
    "\n",
    "# 1 [4, 1, 7, 8, 3, 5, 9] 1<pivot, border=1, 1 swap with arr[border]=1,self\n",
    "# 2 [4, 1, 7, 8, 3, 5, 9] 7>pivot, do nothing\n",
    "# 3 [4, 1, 7, 8, 3, 5, 9] 8>pivot, do nothing\n",
    "# 4 [4, 1, 7, 8, 3, 5, 9] 3<pivot, border=2, 3 swap with arr[border]=7\n",
    "# 5 [4, 1, 3, 8, 7, 5, 9] 5>pivot, do nothing\n",
    "# 6 [4, 1, 3, 8, 7, 5, 9] 9>pivot, do nothing\n",
    "# [3, 1, 4, 8, 7, 5, 9]"
   ]
  },
  {
   "cell_type": "markdown",
   "metadata": {},
   "source": [
    "# Selection sort O(n^2)\n",
    "## arr = [2,5,1,8,9,4]\n",
    "### Method: Select min element on right side of i, if min is smaller than arr[i] then swap the min with arr[i], else arr[i] is in correct position\n",
    " "
   ]
  },
  {
   "cell_type": "code",
   "execution_count": 38,
   "metadata": {
    "tags": []
   },
   "outputs": [
    {
     "name": "stdout",
     "output_type": "stream",
     "text": [
      "0 [2, 5, 1, 8, 9, 4]\n",
      "1 [1, 5, 2, 8, 9, 4]\n",
      "2 [1, 2, 5, 8, 9, 4]\n",
      "3 [1, 2, 4, 8, 9, 5]\n",
      "4 [1, 2, 4, 5, 9, 8]\n"
     ]
    },
    {
     "data": {
      "text/plain": [
       "[1, 2, 4, 5, 8, 9]"
      ]
     },
     "execution_count": 38,
     "metadata": {},
     "output_type": "execute_result"
    }
   ],
   "source": [
    "def selectionSort(arr):\n",
    "    n = len(arr)\n",
    "    for i in range(n-1):\n",
    "        print(i, arr)\n",
    "        indexOfMin = i\n",
    "        for j in range(i+1, n):\n",
    "            if arr[j] < arr[indexOfMin]:\n",
    "                indexOfMin = j\n",
    "        arr[indexOfMin], arr[i] = arr[i], arr[indexOfMin] # swap\n",
    "    return arr\n",
    "\n",
    "arr = [2,5,1,8,9,4]\n",
    "selectionSort(arr)\n",
    "\n",
    "# 0 [2, 5, 1, 8, 9, 4] i=0, find min from [5,1,8,9,4], find 1<2, swap 1 with arr[0]=2\n",
    "# 1 [1, 5, 2, 8, 9, 4] i=1, find min from [2,8,9,4] find 2<5, swap 2 with arr[1]=5\n",
    "# 2 [1, 2, 5, 8, 9, 4] i=2, find min from [8,9,4] find 4<5, swap 5 with arr[2]=5\n",
    "# 3 [1, 2, 4, 8, 9, 5] i=3, find min from [9,5] find 5<8, swap\n",
    "# 4 [1, 2, 4, 5, 9, 8] i=4, find min from [8] find 8<9, swap\n",
    "\n",
    "# [1, 2, 4, 5, 8, 9]"
   ]
  },
  {
   "cell_type": "markdown",
   "metadata": {},
   "source": [
    "# Bubble sort O(n^2)\n",
    "## arr = [2,5,1,8,9,4]\n",
    "### Bubble: Bubble(largest value float to right side)"
   ]
  },
  {
   "cell_type": "code",
   "execution_count": 22,
   "metadata": {},
   "outputs": [
    {
     "name": "stdout",
     "output_type": "stream",
     "text": [
      "0 [2, 1, 5, 8, 4, 9]\n",
      "1 [1, 2, 5, 4, 8, 9]\n",
      "2 [1, 2, 4, 5, 8, 9]\n",
      "3 [1, 2, 4, 5, 8, 9]\n",
      "4 [1, 2, 4, 5, 8, 9]\n"
     ]
    }
   ],
   "source": [
    "# do following one time one bubble will float to the end\n",
    "# for k in range(n-1):\n",
    "#     if arr[i] > arr[i+1]:\n",
    "#         # swap\n",
    "#         temp = arr[i]\n",
    "#         arr[i] = arr[i+1]\n",
    "#         arr[i+1] = arr[i]\n",
    "\n",
    "# O(n^2)\n",
    "arr = [2, 5, 1, 8, 9, 4]\n",
    "def bubbleSort(arr):\n",
    "    n = len(arr)\n",
    "    for i in range(n-1):\n",
    "        for k in range(n-i-1):\n",
    "            if arr[k] > arr[k+1]:\n",
    "                # swap\n",
    "                arr[k], arr[k+1] = arr[k+1], arr[k] \n",
    "        print(i, arr)\n",
    "bubbleSort(arr)\n",
    "# [2, 5, 1, 8, 9, 4] push 9 to the end\n",
    "# [2, 1, 5, 8, 4, 9] push 8 in front of 9\n",
    "# [1, 2, 5, 4, 8, 9] push 5 in front of 8\n",
    "# [1, 2, 4, 5, 8, 9] already sorted"
   ]
  },
  {
   "cell_type": "code",
   "execution_count": 14,
   "metadata": {},
   "outputs": [
    {
     "name": "stdout",
     "output_type": "stream",
     "text": [
      "0 [8, 5, 4, 2, 1, 9]\n",
      "1 [5, 4, 2, 1, 8, 9]\n",
      "2 [4, 2, 1, 5, 8, 9]\n",
      "3 [2, 1, 4, 5, 8, 9]\n",
      "4 [1, 2, 4, 5, 8, 9]\n"
     ]
    }
   ],
   "source": [
    "arr = [9,8,5,4,2,1] # worst case\n",
    "bubbleSort(arr) # so can do for i in range(n-1):"
   ]
  },
  {
   "cell_type": "code",
   "execution_count": 19,
   "metadata": {},
   "outputs": [
    {
     "name": "stdout",
     "output_type": "stream",
     "text": [
      "0 [2, 1, 5, 8, 4, 9]\n",
      "1 [1, 2, 5, 4, 8, 9]\n",
      "2 [1, 2, 4, 5, 8, 9]\n"
     ]
    }
   ],
   "source": [
    "# improvement: once it's sorted, means no swap at all, break the loop\n",
    "arr = [2, 5, 1, 8, 9, 4]\n",
    "def bubbleSort(arr):\n",
    "    n = len(arr)\n",
    "    for i in range(n-1):\n",
    "        all_sorted = True\n",
    "        for k in range(n-i-1):\n",
    "            if arr[k] > arr[k+1]:\n",
    "                # swap\n",
    "                temp = arr[k]\n",
    "                arr[k] = arr[k+1]\n",
    "                arr[k+1] = temp\n",
    "                all_sorted = False\n",
    "        if all_sorted:\n",
    "            break\n",
    "        print(i, arr)\n",
    "bubbleSort(arr)"
   ]
  },
  {
   "cell_type": "code",
   "execution_count": 59,
   "metadata": {},
   "outputs": [
    {
     "data": {
      "text/plain": [
       "[3, -5, 2, -1, 1]"
      ]
     },
     "execution_count": 59,
     "metadata": {},
     "output_type": "execute_result"
    }
   ],
   "source": [
    "def meanderingArray(unsorted):\n",
    "    # Write your code here\n",
    "    \n",
    "    unsorted.sort()\n",
    "    n = len(unsorted)\n",
    "    temp = n*[None]\n",
    "    small,large = 0,n-1\n",
    "    remain = True\n",
    "    for i in range(n):\n",
    "        if remain: # store large value\n",
    "            temp[i] = unsorted[large]\n",
    "            large -= 1\n",
    "        else: # store small value\n",
    "            temp[i] = unsorted[small]\n",
    "            small += 1\n",
    "        remain = bool(1-remain)\n",
    "    return temp\n",
    "\n",
    "arr = [-1,1,2,3,-5]\n",
    "meanderingArray(arr)"
   ]
  },
  {
   "cell_type": "code",
   "execution_count": 81,
   "metadata": {},
   "outputs": [
    {
     "name": "stdout",
     "output_type": "stream",
     "text": [
      "False\n"
     ]
    }
   ],
   "source": [
    "remain = True\n",
    "remain = bool(1-remain)\n",
    "print(remain)"
   ]
  },
  {
   "cell_type": "code",
   "execution_count": 78,
   "metadata": {},
   "outputs": [
    {
     "data": {
      "text/plain": [
       "5"
      ]
     },
     "execution_count": 78,
     "metadata": {},
     "output_type": "execute_result"
    }
   ],
   "source": [
    "def palindrome(s):\n",
    "    m = dict() \n",
    "    n = len(s) \n",
    "  \n",
    "    result_array = [[0 for x in range(n+1)] for x in range(2)] \n",
    "\n",
    "    s = \"@\" + s + \"#\"\n",
    "  \n",
    "    for j in range(2): \n",
    "        rp = 0    \n",
    "        result_array[j][0] = 0\n",
    "  \n",
    "        i = 1\n",
    "        while i <= n: \n",
    "  \n",
    "            # Attempt to expand palindrome centered at i \n",
    "            while s[i - rp - 1] == s[i + j + rp]: \n",
    "                rp += 1 \n",
    "                \n",
    "            result_array[j][i] = rp \n",
    "            k = 1\n",
    "            while (result_array[j][i - k] != rp - k) and (k < rp): \n",
    "                result_array[j][i+k] = min(result_array[j][i-k], rp - k) \n",
    "                k += 1\n",
    "            rp = max(rp - k, 0) \n",
    "            i += k \n",
    "            \n",
    "    s = s[1:len(s)-1] \n",
    "    m[s[0]] = 1\n",
    "    for i in range(1,n): \n",
    "        for j in range(2): \n",
    "            for rp in range(result_array[j][i],0,-1): \n",
    "                m[s[i - rp - 1 : i - rp - 1 + 2 * rp + j]] = 1\n",
    "        m[s[i]] = 1\n",
    "\n",
    "    return len(m)\n",
    "\n",
    "s = 'aabaa'\n",
    "palindrome(s)"
   ]
  },
  {
   "cell_type": "code",
   "execution_count": null,
   "metadata": {},
   "outputs": [],
   "source": []
  }
 ],
 "metadata": {
  "anaconda-cloud": {},
  "kernelspec": {
   "display_name": "Python 3",
   "language": "python",
   "name": "python3"
  },
  "language_info": {
   "codemirror_mode": {
    "name": "ipython",
    "version": 3
   },
   "file_extension": ".py",
   "mimetype": "text/x-python",
   "name": "python",
   "nbconvert_exporter": "python",
   "pygments_lexer": "ipython3",
   "version": "3.6.5"
  }
 },
 "nbformat": 4,
 "nbformat_minor": 1
}
